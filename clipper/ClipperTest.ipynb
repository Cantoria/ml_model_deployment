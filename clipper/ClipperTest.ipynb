{
 "cells": [
  {
   "cell_type": "code",
   "execution_count": 2,
   "metadata": {},
   "outputs": [
    {
     "name": "stderr",
     "output_type": "stream",
     "text": [
      "18-10-01:17:46:53 INFO     [kubernetes_container_manager.py:317] [default-cluster] Found 6 nodes: ec2-54-68-64-106.us-west-2.compute.amazonaws.com, ec2-34-219-191-153.us-west-2.compute.amazonaws.com, ec2-18-236-197-218.us-west-2.compute.amazonaws.com, ec2-54-212-98-152.us-west-2.compute.amazonaws.com, ec2-18-236-106-32.us-west-2.compute.amazonaws.com, ec2-52-13-37-198.us-west-2.compute.amazonaws.com\n",
      "18-10-01:17:46:53 INFO     [kubernetes_container_manager.py:328] [default-cluster] Setting Clipper mgmt port to 31715\n",
      "18-10-01:17:46:53 INFO     [kubernetes_container_manager.py:338] [default-cluster] Setting Clipper query port to 32471\n",
      "18-10-01:17:46:54 INFO     [kubernetes_container_manager.py:361] [default-cluster] Setting Clipper metric port to 31254\n",
      "18-10-01:17:46:54 INFO     [clipper_admin.py:151] [default-cluster] Successfully connected to Clipper cluster at 127.0.0.1:8001/api/v1/namespaces/mdt/services/query-frontend-at-default-cluster:1337/proxy\n"
     ]
    }
   ],
   "source": [
    "from clipper_admin import ClipperConnection, KubernetesContainerManager\n",
    "manager = KubernetesContainerManager(kubernetes_proxy_addr='127.0.0.1:8001',namespace='mdt')\n",
    "clipper_conn = ClipperConnection(manager)\n",
    "clipper_conn.connect()"
   ]
  },
  {
   "cell_type": "code",
   "execution_count": 9,
   "metadata": {},
   "outputs": [],
   "source": [
    "import requests, json, numpy as np\n",
    "def predict(app):\n",
    "    headers = {\"Content-type\": \"application/json\"}\n",
    "    data=json.dumps({\"input\": [5.9, 3.0, 5.1, 1.8]})\n",
    "    print data\n",
    "    res = requests.post(\"http://localhost:8001/api/v1/namespaces/mdt/services/query-frontend-at-default-cluster:1337/proxy/{}/predict\".format(app), headers=headers, data=data)\n",
    "\n",
    "    print res.json()\n"
   ]
  },
  {
   "cell_type": "code",
   "execution_count": 10,
   "metadata": {},
   "outputs": [
    {
     "name": "stdout",
     "output_type": "stream",
     "text": [
      "{\"input\": [5.9, 3.0, 5.1, 1.8]}\n",
      "{u'default': False, u'output': 2, u'query_id': 65}\n"
     ]
    }
   ],
   "source": [
    "APP_NAME = 'sklearn-classification-1'\n",
    "predict(APP_NAME)"
   ]
  },
  {
   "cell_type": "code",
   "execution_count": 15,
   "metadata": {},
   "outputs": [
    {
     "name": "stdout",
     "output_type": "stream",
     "text": [
      "{\"input\": [5.9, 3.0, 5.1, 1.8]}\n",
      "{u'default': True, u'output': 0, u'query_id': 70, u'default_explanation': u'Failed to retrieve a prediction response within the specified latency SLO'}\n"
     ]
    }
   ],
   "source": [
    "APP_NAME = 'tf-classification'\n",
    "predict(APP_NAME)"
   ]
  }
 ],
 "metadata": {
  "kernelspec": {
   "display_name": "Python 2",
   "language": "python",
   "name": "python2"
  },
  "language_info": {
   "codemirror_mode": {
    "name": "ipython",
    "version": 2
   },
   "file_extension": ".py",
   "mimetype": "text/x-python",
   "name": "python",
   "nbconvert_exporter": "python",
   "pygments_lexer": "ipython2",
   "version": "2.7.10"
  }
 },
 "nbformat": 4,
 "nbformat_minor": 2
}
