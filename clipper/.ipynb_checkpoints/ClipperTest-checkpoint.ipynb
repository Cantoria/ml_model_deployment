{
 "cells": [
  {
   "cell_type": "code",
   "execution_count": null,
   "metadata": {},
   "outputs": [],
   "source": [
    "from clipper_admin import ClipperConnection, KubernetesContainerManager\n",
    "manager = KubernetesContainerManager(kubernetes_proxy_addr='127.0.0.1:8001',namespace='mdt')\n",
    "clipper_conn = ClipperConnection(manager)\n",
    "clipper_conn.connect()"
   ]
  },
  {
   "cell_type": "code",
   "execution_count": null,
   "metadata": {},
   "outputs": [],
   "source": [
    "APP_NAME = 'sklearn-classification-1'\n",
    "MODEL_NAME = 'classification.pkl'\n",
    "PREDICT_NAME = 'clipper-sklearn-predict'\n",
    "\n",
    "clipper_conn.link_model_to_app(app_name=APP_NAME, model_name=PREDICT_NAME)"
   ]
  },
  {
   "cell_type": "code",
   "execution_count": null,
   "metadata": {},
   "outputs": [],
   "source": [
    "import requests, json, numpy as np\n",
    "headers = {\"Content-type\": \"application/json\"}\n",
    "data=json.dumps({\"input\": [5.9, 3.0, 5.1, 1.8]})\n",
    "print data\n",
    "res = requests.post(\"http://localhost:8001/api/v1/namespaces/mdt/services/query-frontend-at-default-cluster:1337/proxy/{}/predict\".format(APP_NAME), headers=headers, data=data)\n",
    "\n",
    "print res.json()\n"
   ]
  },
  {
   "cell_type": "code",
   "execution_count": null,
   "metadata": {},
   "outputs": [],
   "source": []
  }
 ],
 "metadata": {
  "kernelspec": {
   "display_name": "Python 2",
   "language": "python",
   "name": "python2"
  },
  "language_info": {
   "codemirror_mode": {
    "name": "ipython",
    "version": 2
   },
   "file_extension": ".py",
   "mimetype": "text/x-python",
   "name": "python",
   "nbconvert_exporter": "python",
   "pygments_lexer": "ipython2",
   "version": "2.7.10"
  }
 },
 "nbformat": 4,
 "nbformat_minor": 2
}
