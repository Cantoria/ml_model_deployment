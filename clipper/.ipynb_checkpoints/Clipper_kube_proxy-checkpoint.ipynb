{
 "cells": [
  {
   "cell_type": "code",
   "execution_count": 1,
   "metadata": {},
   "outputs": [
    {
     "name": "stderr",
     "output_type": "stream",
     "text": [
      "18-10-01:09:54:41 INFO     [kubernetes_container_manager.py:317] [default-cluster] Found 6 nodes: ec2-54-68-64-106.us-west-2.compute.amazonaws.com, ec2-34-219-191-153.us-west-2.compute.amazonaws.com, ec2-18-236-197-218.us-west-2.compute.amazonaws.com, ec2-54-212-98-152.us-west-2.compute.amazonaws.com, ec2-18-236-106-32.us-west-2.compute.amazonaws.com, ec2-52-13-37-198.us-west-2.compute.amazonaws.com\n",
      "18-10-01:09:54:41 INFO     [kubernetes_container_manager.py:328] [default-cluster] Setting Clipper mgmt port to 31748\n",
      "18-10-01:09:54:41 INFO     [kubernetes_container_manager.py:338] [default-cluster] Setting Clipper query port to 31925\n",
      "18-10-01:09:54:41 INFO     [kubernetes_container_manager.py:361] [default-cluster] Setting Clipper metric port to 30271\n",
      "18-10-01:09:54:41 INFO     [clipper_admin.py:136] [default-cluster] Clipper still initializing.\n",
      "18-10-01:09:54:42 INFO     [clipper_admin.py:136] [default-cluster] Clipper still initializing.\n",
      "18-10-01:09:54:43 INFO     [clipper_admin.py:136] [default-cluster] Clipper still initializing.\n",
      "18-10-01:09:54:44 INFO     [clipper_admin.py:138] [default-cluster] Clipper is running\n"
     ]
    }
   ],
   "source": [
    "from clipper_admin import ClipperConnection, KubernetesContainerManager\n",
    "manager = KubernetesContainerManager(kubernetes_proxy_addr='127.0.0.1:8001',namespace='mdt')\n",
    "clipper_conn = ClipperConnection(manager)\n",
    "clipper_conn.start_clipper()"
   ]
  },
  {
   "cell_type": "code",
   "execution_count": 5,
   "metadata": {},
   "outputs": [
    {
     "name": "stderr",
     "output_type": "stream",
     "text": [
      "18-10-01:09:57:44 INFO     [kubernetes_container_manager.py:317] [default-cluster] Found 6 nodes: ec2-54-68-64-106.us-west-2.compute.amazonaws.com, ec2-34-219-191-153.us-west-2.compute.amazonaws.com, ec2-18-236-197-218.us-west-2.compute.amazonaws.com, ec2-54-212-98-152.us-west-2.compute.amazonaws.com, ec2-18-236-106-32.us-west-2.compute.amazonaws.com, ec2-52-13-37-198.us-west-2.compute.amazonaws.com\n",
      "18-10-01:09:57:44 INFO     [kubernetes_container_manager.py:328] [default-cluster] Setting Clipper mgmt port to 31748\n",
      "18-10-01:09:57:44 INFO     [kubernetes_container_manager.py:338] [default-cluster] Setting Clipper query port to 31925\n",
      "18-10-01:09:57:44 INFO     [kubernetes_container_manager.py:361] [default-cluster] Setting Clipper metric port to 30271\n",
      "18-10-01:09:57:44 INFO     [clipper_admin.py:151] [default-cluster] Successfully connected to Clipper cluster at 127.0.0.1:8001/api/v1/namespaces/mdt/services/query-frontend-at-default-cluster:1337/proxy\n"
     ]
    }
   ],
   "source": [
    "from clipper_admin import ClipperConnection, KubernetesContainerManager\n",
    "manager = KubernetesContainerManager(kubernetes_proxy_addr='127.0.0.1:8001',namespace='mdt')\n",
    "clipper_conn = ClipperConnection(manager)\n",
    "clipper_conn.connect()\n",
    "#clipper_conn.register_application(name=\"hello-world\", input_type=\"doubles\", default_output=\"-1.0\", slo_micros=100000)"
   ]
  },
  {
   "cell_type": "code",
   "execution_count": 14,
   "metadata": {},
   "outputs": [
    {
     "name": "stderr",
     "output_type": "stream",
     "text": [
      "18-10-01:10:10:51 INFO     [clipper_admin.py:215] [default-cluster] Application hello-world was successfully registered\n"
     ]
    },
    {
     "name": "stdout",
     "output_type": "stream",
     "text": [
      "[u'hello-world']\n"
     ]
    }
   ],
   "source": [
    "clipper_conn.register_application(name=\"hello-world\", input_type=\"doubles\", default_output=\"-1.0\", slo_micros=100000)\n",
    "print clipper_conn.get_all_apps()"
   ]
  },
  {
   "cell_type": "code",
   "execution_count": 12,
   "metadata": {},
   "outputs": [
    {
     "name": "stdout",
     "output_type": "stream",
     "text": [
      "WARNING! Using --password via the CLI is insecure. Use --password-stdin.\n",
      "Login Succeeded\n"
     ]
    }
   ],
   "source": [
    "!$(aws ecr get-login --no-include-email --region us-west-2)"
   ]
  },
  {
   "cell_type": "code",
   "execution_count": 16,
   "metadata": {},
   "outputs": [
    {
     "name": "stderr",
     "output_type": "stream",
     "text": [
      "18-10-01:10:11:39 INFO     [kubernetes_container_manager.py:317] [default-cluster] Found 6 nodes: ec2-54-68-64-106.us-west-2.compute.amazonaws.com, ec2-34-219-191-153.us-west-2.compute.amazonaws.com, ec2-18-236-197-218.us-west-2.compute.amazonaws.com, ec2-54-212-98-152.us-west-2.compute.amazonaws.com, ec2-18-236-106-32.us-west-2.compute.amazonaws.com, ec2-52-13-37-198.us-west-2.compute.amazonaws.com\n",
      "18-10-01:10:11:39 INFO     [kubernetes_container_manager.py:328] [default-cluster] Setting Clipper mgmt port to 31748\n",
      "18-10-01:10:11:39 INFO     [kubernetes_container_manager.py:338] [default-cluster] Setting Clipper query port to 31925\n",
      "18-10-01:10:11:39 INFO     [kubernetes_container_manager.py:361] [default-cluster] Setting Clipper metric port to 30271\n",
      "18-10-01:10:11:39 INFO     [clipper_admin.py:151] [default-cluster] Successfully connected to Clipper cluster at 127.0.0.1:8001/api/v1/namespaces/mdt/services/query-frontend-at-default-cluster:1337/proxy\n",
      "18-10-01:10:11:39 INFO     [deployer_utils.py:41] Saving function to /var/folders/nk/xbb077ys5nd_t4mpb2s4fwfc0000gn/T/tmpNMylmBclipper\n",
      "18-10-01:10:11:39 INFO     [deployer_utils.py:51] Serialized and supplied predict function\n",
      "18-10-01:10:11:39 INFO     [python.py:192] Python closure saved\n",
      "18-10-01:10:11:39 INFO     [python.py:198] Using Python 2 base image\n",
      "18-10-01:10:11:40 INFO     [clipper_admin.py:467] [default-cluster] Building model Docker image with model data from /var/folders/nk/xbb077ys5nd_t4mpb2s4fwfc0000gn/T/tmpNMylmBclipper\n",
      "18-10-01:10:11:40 INFO     [clipper_admin.py:472] [default-cluster] Step 1/2 : FROM clipper/python-closure-container:develop\n",
      "18-10-01:10:11:40 INFO     [clipper_admin.py:472] [default-cluster]  ---> 76a098e0f6ee\n",
      "18-10-01:10:11:40 INFO     [clipper_admin.py:472] [default-cluster] Step 2/2 : COPY /var/folders/nk/xbb077ys5nd_t4mpb2s4fwfc0000gn/T/tmpNMylmBclipper /model/\n",
      "18-10-01:10:11:40 INFO     [clipper_admin.py:472] [default-cluster]  ---> e4598b0670c1\n",
      "18-10-01:10:11:40 INFO     [clipper_admin.py:472] [default-cluster] Successfully built e4598b0670c1\n",
      "18-10-01:10:11:40 INFO     [clipper_admin.py:472] [default-cluster] Successfully tagged 658391232643.dkr.ecr.us-west-2.amazonaws.com/default-cluster-sum-model:2\n",
      "18-10-01:10:11:40 INFO     [clipper_admin.py:474] [default-cluster] Pushing model Docker image to 658391232643.dkr.ecr.us-west-2.amazonaws.com/default-cluster-sum-model:2\n",
      "18-10-01:10:11:56 INFO     [clipper_admin.py:651] [default-cluster] Successfully registered model sum-model:2\n",
      "18-10-01:10:11:56 INFO     [clipper_admin.py:569] [default-cluster] Done deploying model sum-model:2.\n"
     ]
    }
   ],
   "source": [
    "from clipper_admin.deployers import python as python_deployer\n",
    "from clipper_admin import ClipperConnection, KubernetesContainerManager\n",
    "\n",
    "manager = KubernetesContainerManager(kubernetes_proxy_addr='127.0.0.1:8001',namespace='mdt')\n",
    "clipper_conn = ClipperConnection(manager)\n",
    "clipper_conn.connect()\n",
    "def feature_sum(xs):\n",
    "    return [str(sum(x)) for x in xs]\n",
    "\n",
    "python_deployer.deploy_python_closure(clipper_conn, \n",
    "                                      name=\"sum-model\", \n",
    "                                      version=2, \n",
    "                                      input_type=\"doubles\", \n",
    "                                      func=feature_sum,\n",
    "                                     registry='658391232643.dkr.ecr.us-west-2.amazonaws.com')"
   ]
  },
  {
   "cell_type": "code",
   "execution_count": 17,
   "metadata": {},
   "outputs": [
    {
     "name": "stderr",
     "output_type": "stream",
     "text": [
      "18-10-01:10:13:43 INFO     [clipper_admin.py:277] [default-cluster] Model sum-model is now linked to application hello-world\n"
     ]
    }
   ],
   "source": [
    "clipper_conn.link_model_to_app(app_name=\"hello-world\", model_name=\"sum-model\")"
   ]
  },
  {
   "cell_type": "code",
   "execution_count": 19,
   "metadata": {},
   "outputs": [
    {
     "data": {
      "text/plain": [
       "{u'default': True,\n",
       " u'default_explanation': u'No connected models found for query',\n",
       " u'output': -1.0,\n",
       " u'query_id': 0}"
      ]
     },
     "execution_count": 19,
     "metadata": {},
     "output_type": "execute_result"
    }
   ],
   "source": [
    "import requests, json, numpy as np\n",
    "headers = {\"Content-type\": \"application/json\"}\n",
    "requests.post(\"http://localhost:8001/api/v1/namespaces/mdt/services/query-frontend-at-default-cluster:1337/proxy/hello-world/predict\", headers=headers, data=json.dumps({\"input\": list(np.random.random(10))})).json()\n"
   ]
  },
  {
   "cell_type": "code",
   "execution_count": null,
   "metadata": {},
   "outputs": [],
   "source": [
    "from clipper_admin import ClipperConnection, KubernetesContainerManager\n",
    "manager = KubernetesContainerManager(kubernetes_proxy_addr='127.0.0.1:8001',namespace='mdt')\n",
    "clipper_conn = ClipperConnection(manager)\n",
    "clipper_conn.stop_all()"
   ]
  }
 ],
 "metadata": {
  "kernelspec": {
   "display_name": "Python 2",
   "language": "python",
   "name": "python2"
  },
  "language_info": {
   "codemirror_mode": {
    "name": "ipython",
    "version": 2
   },
   "file_extension": ".py",
   "mimetype": "text/x-python",
   "name": "python",
   "nbconvert_exporter": "python",
   "pygments_lexer": "ipython2",
   "version": "2.7.10"
  }
 },
 "nbformat": 4,
 "nbformat_minor": 2
}
